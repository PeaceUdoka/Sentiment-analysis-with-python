{
 "cells": [
  {
   "cell_type": "markdown",
   "metadata": {},
   "source": [
    "# Project 3 - Sentiment Analysis for E-Commerce Store\n",
    "### by Azubuogu Peace Udoka\n",
    "\n",
    "### Table of Content\n",
    "<ul>\n",
    "<li><a href=\"#intro\">Introduction</a></li>\n",
    "<li><a href=\"#data\">Understanding the Dataset</a></li>\n",
    "<li><a href=\"#wrangling\">Data Wrangling</a></li>\n",
    "<li><a href=\"#ques\">Calculating Metrics</a></li>\n",
    "<li><a href=\"#conc\">Conclusions</a></li>\n",
    "</ul>"
   ]
  },
  {
   "cell_type": "markdown",
   "metadata": {},
   "source": [
    "<a id='intro'></a>\n",
    "## Introduction\n",
    "\n",
    "### Background\n",
    "As a data analyst at an e-commerce store, I have access to a dataset containing product reviews and associated ratings. The task is to build a model that can classify each review as positive, negative, or neutral based on the text content."
   ]
  },
  {
   "cell_type": "code",
   "execution_count": 1,
   "metadata": {},
   "outputs": [],
   "source": [
    "# import all packages and set plots to be embedded inline\n",
    "import numpy as np\n",
    "import pandas as pd\n",
    "import matplotlib.pyplot as plt\n",
    "import seaborn as sns\n",
    "from nltk import word_tokenize\n",
    "\n",
    "%matplotlib inline\n",
    "#set general style of plots\n",
    "sns.set(rc = {'figure.figsize':(20,8)}, style=\"white\", font_scale=1.5)\n",
    "\n",
    "\n",
    "import warnings\n",
    "warnings.simplefilter(\"ignore\")"
   ]
  },
  {
   "cell_type": "markdown",
   "metadata": {},
   "source": [
    "### Exploring the Dataset"
   ]
  },
  {
   "cell_type": "code",
   "execution_count": 2,
   "metadata": {},
   "outputs": [
    {
     "data": {
      "text/html": [
       "<div>\n",
       "<style scoped>\n",
       "    .dataframe tbody tr th:only-of-type {\n",
       "        vertical-align: middle;\n",
       "    }\n",
       "\n",
       "    .dataframe tbody tr th {\n",
       "        vertical-align: top;\n",
       "    }\n",
       "\n",
       "    .dataframe thead th {\n",
       "        text-align: right;\n",
       "    }\n",
       "</style>\n",
       "<table border=\"1\" class=\"dataframe\">\n",
       "  <thead>\n",
       "    <tr style=\"text-align: right;\">\n",
       "      <th></th>\n",
       "      <th>marketplace</th>\n",
       "      <th>customer_id</th>\n",
       "      <th>review_id</th>\n",
       "      <th>product_id</th>\n",
       "      <th>product_parent</th>\n",
       "      <th>product_title</th>\n",
       "      <th>product_category</th>\n",
       "      <th>star_rating</th>\n",
       "      <th>helpful_votes</th>\n",
       "      <th>total_votes</th>\n",
       "      <th>vine</th>\n",
       "      <th>verified_purchase</th>\n",
       "      <th>review_headline</th>\n",
       "      <th>review_body</th>\n",
       "      <th>review_date</th>\n",
       "      <th>sentiment</th>\n",
       "    </tr>\n",
       "  </thead>\n",
       "  <tbody>\n",
       "    <tr>\n",
       "      <th>25076</th>\n",
       "      <td>US</td>\n",
       "      <td>34643897</td>\n",
       "      <td>R30E8KWLFES6AC</td>\n",
       "      <td>B00IKPYKWG</td>\n",
       "      <td>2693241</td>\n",
       "      <td>Fire HD 7, 7\" HD Display, Wi-Fi, 8 GB</td>\n",
       "      <td>PC</td>\n",
       "      <td>5</td>\n",
       "      <td>0</td>\n",
       "      <td>0</td>\n",
       "      <td>N</td>\n",
       "      <td>Y</td>\n",
       "      <td>Five Stars</td>\n",
       "      <td>Aabsolutely love my Kindle!</td>\n",
       "      <td>2014-12-31</td>\n",
       "      <td>1</td>\n",
       "    </tr>\n",
       "    <tr>\n",
       "      <th>24791</th>\n",
       "      <td>US</td>\n",
       "      <td>48047713</td>\n",
       "      <td>R1AK5U1770DL7O</td>\n",
       "      <td>B00IKPYKWG</td>\n",
       "      <td>2693241</td>\n",
       "      <td>Fire HD 7, 7\" HD Display, Wi-Fi, 8 GB</td>\n",
       "      <td>PC</td>\n",
       "      <td>5</td>\n",
       "      <td>1</td>\n",
       "      <td>1</td>\n",
       "      <td>N</td>\n",
       "      <td>Y</td>\n",
       "      <td>Five Stars</td>\n",
       "      <td>She  loves it</td>\n",
       "      <td>2015-01-01</td>\n",
       "      <td>1</td>\n",
       "    </tr>\n",
       "    <tr>\n",
       "      <th>407</th>\n",
       "      <td>US</td>\n",
       "      <td>40870906</td>\n",
       "      <td>R2B9PETJDW8115</td>\n",
       "      <td>B00IKPYKWG</td>\n",
       "      <td>2693241</td>\n",
       "      <td>Fire HD 7, 7\" HD Display, Wi-Fi, 8 GB</td>\n",
       "      <td>PC</td>\n",
       "      <td>4</td>\n",
       "      <td>0</td>\n",
       "      <td>0</td>\n",
       "      <td>N</td>\n",
       "      <td>Y</td>\n",
       "      <td>This new one the screen is perfect for colors ...</td>\n",
       "      <td>I was looking for a replacement for my first g...</td>\n",
       "      <td>2015-08-21</td>\n",
       "      <td>1</td>\n",
       "    </tr>\n",
       "    <tr>\n",
       "      <th>4576</th>\n",
       "      <td>US</td>\n",
       "      <td>1104762</td>\n",
       "      <td>RNC4EBYUM7B4Q</td>\n",
       "      <td>B00LCHRQL6</td>\n",
       "      <td>2693241</td>\n",
       "      <td>Fire HD 7, 7\" HD Display, Wi-Fi, 8 GB</td>\n",
       "      <td>PC</td>\n",
       "      <td>5</td>\n",
       "      <td>0</td>\n",
       "      <td>0</td>\n",
       "      <td>N</td>\n",
       "      <td>Y</td>\n",
       "      <td>Five Stars</td>\n",
       "      <td>Very easy to carry and use. Fits in pocket of ...</td>\n",
       "      <td>2015-06-20</td>\n",
       "      <td>1</td>\n",
       "    </tr>\n",
       "    <tr>\n",
       "      <th>9795</th>\n",
       "      <td>US</td>\n",
       "      <td>15679880</td>\n",
       "      <td>R2UB0F0RYQCTH2</td>\n",
       "      <td>B00IKPYKWG</td>\n",
       "      <td>2693241</td>\n",
       "      <td>Fire HD 7, 7\" HD Display, Wi-Fi, 8 GB</td>\n",
       "      <td>PC</td>\n",
       "      <td>5</td>\n",
       "      <td>1</td>\n",
       "      <td>1</td>\n",
       "      <td>N</td>\n",
       "      <td>Y</td>\n",
       "      <td>Great All Purpose Pad</td>\n",
       "      <td>Great internet pad for not a wholen lot of mon...</td>\n",
       "      <td>2015-05-02</td>\n",
       "      <td>1</td>\n",
       "    </tr>\n",
       "  </tbody>\n",
       "</table>\n",
       "</div>"
      ],
      "text/plain": [
       "      marketplace  customer_id       review_id  product_id  product_parent  \\\n",
       "25076          US     34643897  R30E8KWLFES6AC  B00IKPYKWG         2693241   \n",
       "24791          US     48047713  R1AK5U1770DL7O  B00IKPYKWG         2693241   \n",
       "407            US     40870906  R2B9PETJDW8115  B00IKPYKWG         2693241   \n",
       "4576           US      1104762   RNC4EBYUM7B4Q  B00LCHRQL6         2693241   \n",
       "9795           US     15679880  R2UB0F0RYQCTH2  B00IKPYKWG         2693241   \n",
       "\n",
       "                               product_title product_category  star_rating  \\\n",
       "25076  Fire HD 7, 7\" HD Display, Wi-Fi, 8 GB               PC            5   \n",
       "24791  Fire HD 7, 7\" HD Display, Wi-Fi, 8 GB               PC            5   \n",
       "407    Fire HD 7, 7\" HD Display, Wi-Fi, 8 GB               PC            4   \n",
       "4576   Fire HD 7, 7\" HD Display, Wi-Fi, 8 GB               PC            5   \n",
       "9795   Fire HD 7, 7\" HD Display, Wi-Fi, 8 GB               PC            5   \n",
       "\n",
       "       helpful_votes  total_votes vine verified_purchase  \\\n",
       "25076              0            0    N                 Y   \n",
       "24791              1            1    N                 Y   \n",
       "407                0            0    N                 Y   \n",
       "4576               0            0    N                 Y   \n",
       "9795               1            1    N                 Y   \n",
       "\n",
       "                                         review_headline  \\\n",
       "25076                                         Five Stars   \n",
       "24791                                         Five Stars   \n",
       "407    This new one the screen is perfect for colors ...   \n",
       "4576                                          Five Stars   \n",
       "9795                               Great All Purpose Pad   \n",
       "\n",
       "                                             review_body review_date  \\\n",
       "25076                        Aabsolutely love my Kindle!  2014-12-31   \n",
       "24791                                      She  loves it  2015-01-01   \n",
       "407    I was looking for a replacement for my first g...  2015-08-21   \n",
       "4576   Very easy to carry and use. Fits in pocket of ...  2015-06-20   \n",
       "9795   Great internet pad for not a wholen lot of mon...  2015-05-02   \n",
       "\n",
       "       sentiment  \n",
       "25076          1  \n",
       "24791          1  \n",
       "407            1  \n",
       "4576           1  \n",
       "9795           1  "
      ]
     },
     "execution_count": 2,
     "metadata": {},
     "output_type": "execute_result"
    }
   ],
   "source": [
    "data = pd.read_csv('Amazon Product Review.txt')\n",
    "# view 5 random rows of data\n",
    "data.sample(5)"
   ]
  },
  {
   "cell_type": "code",
   "execution_count": 3,
   "metadata": {},
   "outputs": [
    {
     "data": {
      "text/plain": [
       "(30846, 16)"
      ]
     },
     "execution_count": 3,
     "metadata": {},
     "output_type": "execute_result"
    }
   ],
   "source": [
    "# size of dataset\n",
    "data.shape"
   ]
  },
  {
   "cell_type": "markdown",
   "metadata": {},
   "source": [
    "There are 30846 rows of data and 16 columns"
   ]
  },
  {
   "cell_type": "code",
   "execution_count": 4,
   "metadata": {},
   "outputs": [
    {
     "data": {
      "text/plain": [
       "marketplace          0\n",
       "customer_id          0\n",
       "review_id            0\n",
       "product_id           0\n",
       "product_parent       0\n",
       "product_title        0\n",
       "product_category     0\n",
       "star_rating          0\n",
       "helpful_votes        0\n",
       "total_votes          0\n",
       "vine                 0\n",
       "verified_purchase    0\n",
       "review_headline      0\n",
       "review_body          0\n",
       "review_date          0\n",
       "sentiment            0\n",
       "dtype: int64"
      ]
     },
     "execution_count": 4,
     "metadata": {},
     "output_type": "execute_result"
    }
   ],
   "source": [
    "# checking for missing values\n",
    "data.isnull().sum()"
   ]
  },
  {
   "cell_type": "markdown",
   "metadata": {},
   "source": [
    "There are no missing values."
   ]
  },
  {
   "cell_type": "code",
   "execution_count": 5,
   "metadata": {},
   "outputs": [
    {
     "data": {
      "text/plain": [
       "0"
      ]
     },
     "execution_count": 5,
     "metadata": {},
     "output_type": "execute_result"
    }
   ],
   "source": [
    "# checking for duplicates\n",
    "data.duplicated().sum()"
   ]
  },
  {
   "cell_type": "markdown",
   "metadata": {},
   "source": [
    "There are no dupicates."
   ]
  },
  {
   "cell_type": "code",
   "execution_count": 6,
   "metadata": {},
   "outputs": [
    {
     "data": {
      "text/plain": [
       "marketplace          object\n",
       "customer_id           int64\n",
       "review_id            object\n",
       "product_id           object\n",
       "product_parent        int64\n",
       "product_title        object\n",
       "product_category     object\n",
       "star_rating           int64\n",
       "helpful_votes         int64\n",
       "total_votes           int64\n",
       "vine                 object\n",
       "verified_purchase    object\n",
       "review_headline      object\n",
       "review_body          object\n",
       "review_date          object\n",
       "sentiment             int64\n",
       "dtype: object"
      ]
     },
     "execution_count": 6,
     "metadata": {},
     "output_type": "execute_result"
    }
   ],
   "source": [
    "data.dtypes"
   ]
  },
  {
   "cell_type": "code",
   "execution_count": 7,
   "metadata": {},
   "outputs": [],
   "source": [
    "# converting customer_id and product_parent column to string and review_date column to date\n",
    "data['customer_id'] = data['customer_id'].astype('str')\n",
    "data['product_parent'] = data['product_parent'].astype('str')\n",
    "data['review_date'] = pd.to_datetime(data['review_date'])"
   ]
  },
  {
   "cell_type": "code",
   "execution_count": 8,
   "metadata": {},
   "outputs": [
    {
     "data": {
      "text/plain": [
       "1    0.835343\n",
       "0    0.164657\n",
       "Name: sentiment, dtype: float64"
      ]
     },
     "execution_count": 8,
     "metadata": {},
     "output_type": "execute_result"
    }
   ],
   "source": [
    "# fraction of positive and negative reviews\n",
    "data.sentiment.value_counts()/len(data)"
   ]
  },
  {
   "cell_type": "markdown",
   "metadata": {},
   "source": [
    "The sentiment column contains two values.\n",
    "\n",
    "0 - negative sentiment\n",
    "\n",
    "1 - positive sentiment\n",
    "\n",
    "This means, majority of the reviews are positive (83.5343%) and 16.4657% of the reviews are negative."
   ]
  },
  {
   "cell_type": "code",
   "execution_count": 9,
   "metadata": {},
   "outputs": [],
   "source": [
    "# create new column containing number of words from each review_body\n",
    "word_tokens = [word_tokenize(review) for review in data.review_body]\n",
    "length = []\n",
    " \n",
    "for i in range(len(word_tokens)):\n",
    "    length.append(len(word_tokens[i]))\n",
    "data['no_of_words'] = length  "
   ]
  }
 ],
 "metadata": {
  "kernelspec": {
   "display_name": "Python 3",
   "language": "python",
   "name": "python3"
  },
  "language_info": {
   "codemirror_mode": {
    "name": "ipython",
    "version": 3
   },
   "file_extension": ".py",
   "mimetype": "text/x-python",
   "name": "python",
   "nbconvert_exporter": "python",
   "pygments_lexer": "ipython3",
   "version": "3.7.0"
  }
 },
 "nbformat": 4,
 "nbformat_minor": 2
}
