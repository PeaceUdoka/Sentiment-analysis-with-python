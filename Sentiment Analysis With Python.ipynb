{
 "cells": [
  {
   "cell_type": "markdown",
   "metadata": {},
   "source": [
    "# Project 3 - Sentiment Analysis for E-Commerce Store\n",
    "### by Azubuogu Peace Udoka\n",
    "\n",
    "### Table of Content\n",
    "<ul>\n",
    "<li><a href=\"#intro\">Introduction</a></li>\n",
    "<li><a href=\"#data\">Understanding the Dataset</a></li>\n",
    "<li><a href=\"#wrangling\">Data Wrangling</a></li>\n",
    "<li><a href=\"#ques\">Calculating Metrics</a></li>\n",
    "<li><a href=\"#conc\">Conclusions</a></li>\n",
    "</ul>"
   ]
  },
  {
   "cell_type": "markdown",
   "metadata": {},
   "source": [
    "<a id='intro'></a>\n",
    "## Introduction\n",
    "\n",
    "### Background\n",
    "As a data analyst at an e-commerce store, I have access to a dataset containing product reviews and associated ratings. The task is to build a model that can classify each review as positive, negative, or neutral based on the text content."
   ]
  },
  {
   "cell_type": "code",
   "execution_count": 1,
   "metadata": {},
   "outputs": [],
   "source": [
    "# import all packages and set plots to be embedded inline\n",
    "import numpy as np\n",
    "import pandas as pd\n",
    "import matplotlib.pyplot as plt\n",
    "import seaborn as sns\n",
    "\n",
    "%matplotlib inline\n",
    "#set general style of plots\n",
    "sns.set(rc = {'figure.figsize':(20,8)}, style=\"white\", font_scale=1.5)\n",
    "\n",
    "\n",
    "import warnings\n",
    "warnings.simplefilter(\"ignore\")"
   ]
  },
  {
   "cell_type": "markdown",
   "metadata": {},
   "source": [
    "### Exploring the Dataset"
   ]
  },
  {
   "cell_type": "code",
   "execution_count": 2,
   "metadata": {},
   "outputs": [
    {
     "data": {
      "text/html": [
       "<div>\n",
       "<style scoped>\n",
       "    .dataframe tbody tr th:only-of-type {\n",
       "        vertical-align: middle;\n",
       "    }\n",
       "\n",
       "    .dataframe tbody tr th {\n",
       "        vertical-align: top;\n",
       "    }\n",
       "\n",
       "    .dataframe thead th {\n",
       "        text-align: right;\n",
       "    }\n",
       "</style>\n",
       "<table border=\"1\" class=\"dataframe\">\n",
       "  <thead>\n",
       "    <tr style=\"text-align: right;\">\n",
       "      <th></th>\n",
       "      <th>marketplace</th>\n",
       "      <th>customer_id</th>\n",
       "      <th>review_id</th>\n",
       "      <th>product_id</th>\n",
       "      <th>product_parent</th>\n",
       "      <th>product_title</th>\n",
       "      <th>product_category</th>\n",
       "      <th>star_rating</th>\n",
       "      <th>helpful_votes</th>\n",
       "      <th>total_votes</th>\n",
       "      <th>vine</th>\n",
       "      <th>verified_purchase</th>\n",
       "      <th>review_headline</th>\n",
       "      <th>review_body</th>\n",
       "      <th>review_date</th>\n",
       "      <th>sentiment</th>\n",
       "    </tr>\n",
       "  </thead>\n",
       "  <tbody>\n",
       "    <tr>\n",
       "      <th>2827</th>\n",
       "      <td>US</td>\n",
       "      <td>31181150</td>\n",
       "      <td>RKJJ3GVGTEPFL</td>\n",
       "      <td>B00IKPYKWG</td>\n",
       "      <td>2693241</td>\n",
       "      <td>Fire HD 7, 7\" HD Display, Wi-Fi, 8 GB</td>\n",
       "      <td>PC</td>\n",
       "      <td>5</td>\n",
       "      <td>0</td>\n",
       "      <td>0</td>\n",
       "      <td>N</td>\n",
       "      <td>Y</td>\n",
       "      <td>This is my second kindle and it is much better...</td>\n",
       "      <td>This is my second kindle and it is much better...</td>\n",
       "      <td>2015-07-17</td>\n",
       "      <td>1</td>\n",
       "    </tr>\n",
       "    <tr>\n",
       "      <th>30007</th>\n",
       "      <td>US</td>\n",
       "      <td>22406499</td>\n",
       "      <td>R12QQUWHKYVIXX</td>\n",
       "      <td>B00LCHRQL6</td>\n",
       "      <td>2693241</td>\n",
       "      <td>Fire HD 7, 7\" HD Display, Wi-Fi, 8 GB</td>\n",
       "      <td>PC</td>\n",
       "      <td>5</td>\n",
       "      <td>0</td>\n",
       "      <td>0</td>\n",
       "      <td>N</td>\n",
       "      <td>Y</td>\n",
       "      <td>Excellent Kindle</td>\n",
       "      <td>Very pleased with my Fire HD 7.  Fantastic col...</td>\n",
       "      <td>2014-11-11</td>\n",
       "      <td>1</td>\n",
       "    </tr>\n",
       "    <tr>\n",
       "      <th>1994</th>\n",
       "      <td>US</td>\n",
       "      <td>2748574</td>\n",
       "      <td>R9UE750J6WKQD</td>\n",
       "      <td>B00IKPX4GY</td>\n",
       "      <td>2693241</td>\n",
       "      <td>Fire HD 7, 7\" HD Display, Wi-Fi, 8 GB</td>\n",
       "      <td>PC</td>\n",
       "      <td>3</td>\n",
       "      <td>0</td>\n",
       "      <td>1</td>\n",
       "      <td>N</td>\n",
       "      <td>Y</td>\n",
       "      <td>The functionality is great, but the speakers a...</td>\n",
       "      <td>The functionality is great, but the speakers a...</td>\n",
       "      <td>2015-07-29</td>\n",
       "      <td>0</td>\n",
       "    </tr>\n",
       "    <tr>\n",
       "      <th>3273</th>\n",
       "      <td>US</td>\n",
       "      <td>21706272</td>\n",
       "      <td>R1TS14QX6OY5P9</td>\n",
       "      <td>B00IKPYKWG</td>\n",
       "      <td>2693241</td>\n",
       "      <td>Fire HD 7, 7\" HD Display, Wi-Fi, 8 GB</td>\n",
       "      <td>PC</td>\n",
       "      <td>5</td>\n",
       "      <td>0</td>\n",
       "      <td>0</td>\n",
       "      <td>N</td>\n",
       "      <td>Y</td>\n",
       "      <td>Five Stars</td>\n",
       "      <td>Easy to get started and navigate.</td>\n",
       "      <td>2015-07-08</td>\n",
       "      <td>1</td>\n",
       "    </tr>\n",
       "    <tr>\n",
       "      <th>11441</th>\n",
       "      <td>US</td>\n",
       "      <td>830922</td>\n",
       "      <td>R1NCRKSJ5PASW4</td>\n",
       "      <td>B00IKPW0UA</td>\n",
       "      <td>2693241</td>\n",
       "      <td>Fire HD 7, 7\" HD Display, Wi-Fi, 8 GB</td>\n",
       "      <td>PC</td>\n",
       "      <td>5</td>\n",
       "      <td>0</td>\n",
       "      <td>0</td>\n",
       "      <td>N</td>\n",
       "      <td>Y</td>\n",
       "      <td>Play or not great tablet.</td>\n",
       "      <td>Great tablet, just what one needs to play or g...</td>\n",
       "      <td>2015-04-17</td>\n",
       "      <td>1</td>\n",
       "    </tr>\n",
       "  </tbody>\n",
       "</table>\n",
       "</div>"
      ],
      "text/plain": [
       "      marketplace  customer_id       review_id  product_id  product_parent  \\\n",
       "2827           US     31181150   RKJJ3GVGTEPFL  B00IKPYKWG         2693241   \n",
       "30007          US     22406499  R12QQUWHKYVIXX  B00LCHRQL6         2693241   \n",
       "1994           US      2748574   R9UE750J6WKQD  B00IKPX4GY         2693241   \n",
       "3273           US     21706272  R1TS14QX6OY5P9  B00IKPYKWG         2693241   \n",
       "11441          US       830922  R1NCRKSJ5PASW4  B00IKPW0UA         2693241   \n",
       "\n",
       "                               product_title product_category  star_rating  \\\n",
       "2827   Fire HD 7, 7\" HD Display, Wi-Fi, 8 GB               PC            5   \n",
       "30007  Fire HD 7, 7\" HD Display, Wi-Fi, 8 GB               PC            5   \n",
       "1994   Fire HD 7, 7\" HD Display, Wi-Fi, 8 GB               PC            3   \n",
       "3273   Fire HD 7, 7\" HD Display, Wi-Fi, 8 GB               PC            5   \n",
       "11441  Fire HD 7, 7\" HD Display, Wi-Fi, 8 GB               PC            5   \n",
       "\n",
       "       helpful_votes  total_votes vine verified_purchase  \\\n",
       "2827               0            0    N                 Y   \n",
       "30007              0            0    N                 Y   \n",
       "1994               0            1    N                 Y   \n",
       "3273               0            0    N                 Y   \n",
       "11441              0            0    N                 Y   \n",
       "\n",
       "                                         review_headline  \\\n",
       "2827   This is my second kindle and it is much better...   \n",
       "30007                                   Excellent Kindle   \n",
       "1994   The functionality is great, but the speakers a...   \n",
       "3273                                          Five Stars   \n",
       "11441                          Play or not great tablet.   \n",
       "\n",
       "                                             review_body review_date  \\\n",
       "2827   This is my second kindle and it is much better...  2015-07-17   \n",
       "30007  Very pleased with my Fire HD 7.  Fantastic col...  2014-11-11   \n",
       "1994   The functionality is great, but the speakers a...  2015-07-29   \n",
       "3273                   Easy to get started and navigate.  2015-07-08   \n",
       "11441  Great tablet, just what one needs to play or g...  2015-04-17   \n",
       "\n",
       "       sentiment  \n",
       "2827           1  \n",
       "30007          1  \n",
       "1994           0  \n",
       "3273           1  \n",
       "11441          1  "
      ]
     },
     "execution_count": 2,
     "metadata": {},
     "output_type": "execute_result"
    }
   ],
   "source": [
    "data = pd.read_csv('Amazon Product Review.txt')\n",
    "# view 5 random rows of data\n",
    "data.sample(5)"
   ]
  },
  {
   "cell_type": "code",
   "execution_count": 3,
   "metadata": {},
   "outputs": [
    {
     "data": {
      "text/plain": [
       "(30846, 16)"
      ]
     },
     "execution_count": 3,
     "metadata": {},
     "output_type": "execute_result"
    }
   ],
   "source": [
    "# size of dataset\n",
    "data.shape"
   ]
  },
  {
   "cell_type": "markdown",
   "metadata": {},
   "source": [
    "There are 30846 rows of data and 16 columns"
   ]
  },
  {
   "cell_type": "code",
   "execution_count": 4,
   "metadata": {},
   "outputs": [
    {
     "data": {
      "text/plain": [
       "marketplace          0\n",
       "customer_id          0\n",
       "review_id            0\n",
       "product_id           0\n",
       "product_parent       0\n",
       "product_title        0\n",
       "product_category     0\n",
       "star_rating          0\n",
       "helpful_votes        0\n",
       "total_votes          0\n",
       "vine                 0\n",
       "verified_purchase    0\n",
       "review_headline      0\n",
       "review_body          0\n",
       "review_date          0\n",
       "sentiment            0\n",
       "dtype: int64"
      ]
     },
     "execution_count": 4,
     "metadata": {},
     "output_type": "execute_result"
    }
   ],
   "source": [
    "# checking for missing values\n",
    "data.isnull().sum()"
   ]
  },
  {
   "cell_type": "markdown",
   "metadata": {},
   "source": [
    "There are no missing values."
   ]
  },
  {
   "cell_type": "code",
   "execution_count": 5,
   "metadata": {},
   "outputs": [
    {
     "data": {
      "text/plain": [
       "0"
      ]
     },
     "execution_count": 5,
     "metadata": {},
     "output_type": "execute_result"
    }
   ],
   "source": [
    "# checking for duplicates\n",
    "data.duplicated().sum()"
   ]
  },
  {
   "cell_type": "markdown",
   "metadata": {},
   "source": [
    "There are no dupicates."
   ]
  },
  {
   "cell_type": "code",
   "execution_count": 7,
   "metadata": {},
   "outputs": [
    {
     "data": {
      "text/plain": [
       "marketplace          object\n",
       "customer_id           int64\n",
       "review_id            object\n",
       "product_id           object\n",
       "product_parent        int64\n",
       "product_title        object\n",
       "product_category     object\n",
       "star_rating           int64\n",
       "helpful_votes         int64\n",
       "total_votes           int64\n",
       "vine                 object\n",
       "verified_purchase    object\n",
       "review_headline      object\n",
       "review_body          object\n",
       "review_date          object\n",
       "sentiment             int64\n",
       "dtype: object"
      ]
     },
     "execution_count": 7,
     "metadata": {},
     "output_type": "execute_result"
    }
   ],
   "source": [
    "data.dtypes"
   ]
  },
  {
   "cell_type": "code",
   "execution_count": 9,
   "metadata": {},
   "outputs": [],
   "source": [
    "# converting customer_id and product_parent column to string and review_date column to date\n",
    "data['customer_id'] = data['customer_id'].astype('str')\n",
    "data['product_parent'] = data['product_parent'].astype('str')\n",
    "data['review_date'] = pd.to_datetime(data['review_date'])"
   ]
  },
  {
   "cell_type": "code",
   "execution_count": 11,
   "metadata": {},
   "outputs": [
    {
     "data": {
      "text/plain": [
       "1    0.835343\n",
       "0    0.164657\n",
       "Name: sentiment, dtype: float64"
      ]
     },
     "execution_count": 11,
     "metadata": {},
     "output_type": "execute_result"
    }
   ],
   "source": [
    "data.sentiment.value_counts()/len(data)"
   ]
  },
  {
   "cell_type": "markdown",
   "metadata": {},
   "source": [
    "The sentiment column contains two values.\n",
    "\n",
    "0 - negative sentiment\n",
    "\n",
    "1 - positive sentiment\n",
    "\n",
    "This means, majority of the reviews are positive (83.5343%) and 16.4657% of the reviews are negative."
   ]
  },
  {
   "cell_type": "code",
   "execution_count": null,
   "metadata": {},
   "outputs": [],
   "source": []
  }
 ],
 "metadata": {
  "kernelspec": {
   "display_name": "Python 3",
   "language": "python",
   "name": "python3"
  },
  "language_info": {
   "codemirror_mode": {
    "name": "ipython",
    "version": 3
   },
   "file_extension": ".py",
   "mimetype": "text/x-python",
   "name": "python",
   "nbconvert_exporter": "python",
   "pygments_lexer": "ipython3",
   "version": "3.7.0"
  }
 },
 "nbformat": 4,
 "nbformat_minor": 2
}
